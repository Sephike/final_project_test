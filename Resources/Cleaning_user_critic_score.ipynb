{
 "cells": [
  {
   "cell_type": "code",
   "execution_count": 1,
   "metadata": {},
   "outputs": [],
   "source": [
    "# Importing our dependencies\n",
    "\n",
    "import pandas as pd"
   ]
  },
  {
   "cell_type": "code",
   "execution_count": 2,
   "metadata": {},
   "outputs": [
    {
     "name": "stderr",
     "output_type": "stream",
     "text": [
      "C:\\Users\\steph\\AppData\\Roaming\\Python\\Python37\\site-packages\\ipykernel_launcher.py:6: SettingWithCopyWarning: \n",
      "A value is trying to be set on a copy of a slice from a DataFrame\n",
      "\n",
      "See the caveats in the documentation: https://pandas.pydata.org/pandas-docs/stable/user_guide/indexing.html#returning-a-view-versus-a-copy\n",
      "  \n",
      "C:\\Users\\steph\\AppData\\Roaming\\Python\\Python37\\site-packages\\ipykernel_launcher.py:11: SettingWithCopyWarning: \n",
      "A value is trying to be set on a copy of a slice from a DataFrame\n",
      "\n",
      "See the caveats in the documentation: https://pandas.pydata.org/pandas-docs/stable/user_guide/indexing.html#returning-a-view-versus-a-copy\n",
      "  # This is added back by InteractiveShellApp.init_path()\n",
      "C:\\Users\\steph\\AppData\\Roaming\\Python\\Python37\\site-packages\\ipykernel_launcher.py:16: SettingWithCopyWarning: \n",
      "A value is trying to be set on a copy of a slice from a DataFrame\n",
      "\n",
      "See the caveats in the documentation: https://pandas.pydata.org/pandas-docs/stable/user_guide/indexing.html#returning-a-view-versus-a-copy\n",
      "  app.launch_new_instance()\n"
     ]
    }
   ],
   "source": [
    "# Reading our data in\n",
    "\n",
    "df = pd.read_csv(\"vgsales_user_score.csv\")\n",
    "string_list = df['Name']\n",
    "for i in range(len(string_list)):\n",
    "    string_list[i] = string_list[i].upper()\n",
    "df['Name'] = string_list\n",
    "df_user = pd.read_csv(\"result.csv\")\n",
    "string_list = df_user['name']\n",
    "for i in range(len(string_list)):\n",
    "    string_list[i] = string_list[i].upper()\n",
    "df_user['name'] = string_list\n",
    "vgsales = pd.read_csv(\"vgsales.csv\")\n",
    "string_list = vgsales['Name']\n",
    "for i in range(len(string_list)):\n",
    "    string_list[i] = string_list[i].upper()\n",
    "vgsales['Name'] = string_list"
   ]
  },
  {
   "cell_type": "code",
   "execution_count": 3,
   "metadata": {},
   "outputs": [],
   "source": [
    "# Dropping unnecessary columns.\n",
    "\n",
    "df = df.drop(columns = ['VGChartz_Score', 'Platform', 'Year', \n",
    "                        'basename', 'Total_Shipped', 'Last_Update', 'url', 'status',\n",
    "                        'Vgchartzscore', 'img_url', 'Global_Sales',\n",
    "                        'NA_Sales', 'PAL_Sales', 'JP_Sales', 'Other_Sales'])\n"
   ]
  },
  {
   "cell_type": "code",
   "execution_count": 4,
   "metadata": {},
   "outputs": [
    {
     "data": {
      "text/html": [
       "<div>\n",
       "<style scoped>\n",
       "    .dataframe tbody tr th:only-of-type {\n",
       "        vertical-align: middle;\n",
       "    }\n",
       "\n",
       "    .dataframe tbody tr th {\n",
       "        vertical-align: top;\n",
       "    }\n",
       "\n",
       "    .dataframe thead th {\n",
       "        text-align: right;\n",
       "    }\n",
       "</style>\n",
       "<table border=\"1\" class=\"dataframe\">\n",
       "  <thead>\n",
       "    <tr style=\"text-align: right;\">\n",
       "      <th></th>\n",
       "      <th>metascore</th>\n",
       "      <th>name</th>\n",
       "      <th>console</th>\n",
       "      <th>userscore</th>\n",
       "      <th>date</th>\n",
       "    </tr>\n",
       "  </thead>\n",
       "  <tbody>\n",
       "    <tr>\n",
       "      <th>0</th>\n",
       "      <td>97</td>\n",
       "      <td>GRAND THEFT AUTO V</td>\n",
       "      <td>PS3</td>\n",
       "      <td>8.3</td>\n",
       "      <td>Sep 17, 2013</td>\n",
       "    </tr>\n",
       "    <tr>\n",
       "      <th>1</th>\n",
       "      <td>97</td>\n",
       "      <td>GRAND THEFT AUTO V</td>\n",
       "      <td>X360</td>\n",
       "      <td>8.3</td>\n",
       "      <td>Sep 17, 2013</td>\n",
       "    </tr>\n",
       "    <tr>\n",
       "      <th>2</th>\n",
       "      <td>95</td>\n",
       "      <td>THE LAST OF US</td>\n",
       "      <td>PS3</td>\n",
       "      <td>9.2</td>\n",
       "      <td>Jun 14, 2013</td>\n",
       "    </tr>\n",
       "    <tr>\n",
       "      <th>3</th>\n",
       "      <td>94</td>\n",
       "      <td>BIOSHOCK INFINITE</td>\n",
       "      <td>PS3</td>\n",
       "      <td>8.5</td>\n",
       "      <td>Mar 26, 2013</td>\n",
       "    </tr>\n",
       "    <tr>\n",
       "      <th>4</th>\n",
       "      <td>94</td>\n",
       "      <td>BIOSHOCK INFINITE</td>\n",
       "      <td>PC</td>\n",
       "      <td>8.6</td>\n",
       "      <td>Mar 25, 2013</td>\n",
       "    </tr>\n",
       "  </tbody>\n",
       "</table>\n",
       "</div>"
      ],
      "text/plain": [
       "   metascore                name console userscore          date\n",
       "0         97  GRAND THEFT AUTO V     PS3       8.3  Sep 17, 2013\n",
       "1         97  GRAND THEFT AUTO V    X360       8.3  Sep 17, 2013\n",
       "2         95      THE LAST OF US     PS3       9.2  Jun 14, 2013\n",
       "3         94   BIOSHOCK INFINITE     PS3       8.5  Mar 26, 2013\n",
       "4         94   BIOSHOCK INFINITE      PC       8.6  Mar 25, 2013"
      ]
     },
     "execution_count": 4,
     "metadata": {},
     "output_type": "execute_result"
    }
   ],
   "source": [
    "df_user.head()"
   ]
  },
  {
   "cell_type": "code",
   "execution_count": 5,
   "metadata": {},
   "outputs": [
    {
     "data": {
      "text/html": [
       "<div>\n",
       "<style scoped>\n",
       "    .dataframe tbody tr th:only-of-type {\n",
       "        vertical-align: middle;\n",
       "    }\n",
       "\n",
       "    .dataframe tbody tr th {\n",
       "        vertical-align: top;\n",
       "    }\n",
       "\n",
       "    .dataframe thead th {\n",
       "        text-align: right;\n",
       "    }\n",
       "</style>\n",
       "<table border=\"1\" class=\"dataframe\">\n",
       "  <thead>\n",
       "    <tr style=\"text-align: right;\">\n",
       "      <th></th>\n",
       "      <th>Rank</th>\n",
       "      <th>Name</th>\n",
       "      <th>Genre</th>\n",
       "      <th>ESRB_Rating</th>\n",
       "      <th>Publisher</th>\n",
       "      <th>Developer</th>\n",
       "      <th>Critic_Score</th>\n",
       "      <th>User_Score</th>\n",
       "    </tr>\n",
       "  </thead>\n",
       "  <tbody>\n",
       "    <tr>\n",
       "      <th>0</th>\n",
       "      <td>1</td>\n",
       "      <td>WII SPORTS</td>\n",
       "      <td>Sports</td>\n",
       "      <td>E</td>\n",
       "      <td>Nintendo</td>\n",
       "      <td>Nintendo EAD</td>\n",
       "      <td>7.7</td>\n",
       "      <td>NaN</td>\n",
       "    </tr>\n",
       "    <tr>\n",
       "      <th>1</th>\n",
       "      <td>2</td>\n",
       "      <td>SUPER MARIO BROS.</td>\n",
       "      <td>Platform</td>\n",
       "      <td>NaN</td>\n",
       "      <td>Nintendo</td>\n",
       "      <td>Nintendo EAD</td>\n",
       "      <td>10.0</td>\n",
       "      <td>NaN</td>\n",
       "    </tr>\n",
       "    <tr>\n",
       "      <th>2</th>\n",
       "      <td>3</td>\n",
       "      <td>MARIO KART WII</td>\n",
       "      <td>Racing</td>\n",
       "      <td>E</td>\n",
       "      <td>Nintendo</td>\n",
       "      <td>Nintendo EAD</td>\n",
       "      <td>8.2</td>\n",
       "      <td>9.1</td>\n",
       "    </tr>\n",
       "    <tr>\n",
       "      <th>3</th>\n",
       "      <td>4</td>\n",
       "      <td>PLAYERUNKNOWN'S BATTLEGROUNDS</td>\n",
       "      <td>Shooter</td>\n",
       "      <td>NaN</td>\n",
       "      <td>PUBG Corporation</td>\n",
       "      <td>PUBG Corporation</td>\n",
       "      <td>NaN</td>\n",
       "      <td>NaN</td>\n",
       "    </tr>\n",
       "    <tr>\n",
       "      <th>4</th>\n",
       "      <td>5</td>\n",
       "      <td>WII SPORTS RESORT</td>\n",
       "      <td>Sports</td>\n",
       "      <td>E</td>\n",
       "      <td>Nintendo</td>\n",
       "      <td>Nintendo EAD</td>\n",
       "      <td>8.0</td>\n",
       "      <td>8.8</td>\n",
       "    </tr>\n",
       "  </tbody>\n",
       "</table>\n",
       "</div>"
      ],
      "text/plain": [
       "   Rank                           Name     Genre ESRB_Rating  \\\n",
       "0     1                     WII SPORTS    Sports           E   \n",
       "1     2              SUPER MARIO BROS.  Platform         NaN   \n",
       "2     3                 MARIO KART WII    Racing           E   \n",
       "3     4  PLAYERUNKNOWN'S BATTLEGROUNDS   Shooter         NaN   \n",
       "4     5              WII SPORTS RESORT    Sports           E   \n",
       "\n",
       "          Publisher         Developer  Critic_Score  User_Score  \n",
       "0          Nintendo      Nintendo EAD           7.7         NaN  \n",
       "1          Nintendo      Nintendo EAD          10.0         NaN  \n",
       "2          Nintendo      Nintendo EAD           8.2         9.1  \n",
       "3  PUBG Corporation  PUBG Corporation           NaN         NaN  \n",
       "4          Nintendo      Nintendo EAD           8.0         8.8  "
      ]
     },
     "execution_count": 5,
     "metadata": {},
     "output_type": "execute_result"
    }
   ],
   "source": [
    "df.head()"
   ]
  },
  {
   "cell_type": "code",
   "execution_count": 6,
   "metadata": {},
   "outputs": [],
   "source": [
    "# Separating DataFrames for user score and critic score.\n",
    "\n",
    "\n",
    "df_critic = df[['Name', 'Genre', 'Publisher', 'ESRB_Rating', 'Developer', 'Critic_Score']]"
   ]
  },
  {
   "cell_type": "code",
   "execution_count": 7,
   "metadata": {
    "scrolled": true
   },
   "outputs": [
    {
     "data": {
      "text/html": [
       "<div>\n",
       "<style scoped>\n",
       "    .dataframe tbody tr th:only-of-type {\n",
       "        vertical-align: middle;\n",
       "    }\n",
       "\n",
       "    .dataframe tbody tr th {\n",
       "        vertical-align: top;\n",
       "    }\n",
       "\n",
       "    .dataframe thead th {\n",
       "        text-align: right;\n",
       "    }\n",
       "</style>\n",
       "<table border=\"1\" class=\"dataframe\">\n",
       "  <thead>\n",
       "    <tr style=\"text-align: right;\">\n",
       "      <th></th>\n",
       "      <th>Name</th>\n",
       "      <th>Genre</th>\n",
       "      <th>Publisher</th>\n",
       "      <th>ESRB_Rating</th>\n",
       "      <th>Developer</th>\n",
       "      <th>Critic_Score</th>\n",
       "    </tr>\n",
       "  </thead>\n",
       "  <tbody>\n",
       "    <tr>\n",
       "      <th>0</th>\n",
       "      <td>WII SPORTS</td>\n",
       "      <td>Sports</td>\n",
       "      <td>Nintendo</td>\n",
       "      <td>E</td>\n",
       "      <td>Nintendo EAD</td>\n",
       "      <td>7.7</td>\n",
       "    </tr>\n",
       "    <tr>\n",
       "      <th>1</th>\n",
       "      <td>SUPER MARIO BROS.</td>\n",
       "      <td>Platform</td>\n",
       "      <td>Nintendo</td>\n",
       "      <td>NaN</td>\n",
       "      <td>Nintendo EAD</td>\n",
       "      <td>10.0</td>\n",
       "    </tr>\n",
       "    <tr>\n",
       "      <th>2</th>\n",
       "      <td>MARIO KART WII</td>\n",
       "      <td>Racing</td>\n",
       "      <td>Nintendo</td>\n",
       "      <td>E</td>\n",
       "      <td>Nintendo EAD</td>\n",
       "      <td>8.2</td>\n",
       "    </tr>\n",
       "    <tr>\n",
       "      <th>3</th>\n",
       "      <td>PLAYERUNKNOWN'S BATTLEGROUNDS</td>\n",
       "      <td>Shooter</td>\n",
       "      <td>PUBG Corporation</td>\n",
       "      <td>NaN</td>\n",
       "      <td>PUBG Corporation</td>\n",
       "      <td>NaN</td>\n",
       "    </tr>\n",
       "    <tr>\n",
       "      <th>4</th>\n",
       "      <td>WII SPORTS RESORT</td>\n",
       "      <td>Sports</td>\n",
       "      <td>Nintendo</td>\n",
       "      <td>E</td>\n",
       "      <td>Nintendo EAD</td>\n",
       "      <td>8.0</td>\n",
       "    </tr>\n",
       "  </tbody>\n",
       "</table>\n",
       "</div>"
      ],
      "text/plain": [
       "                            Name     Genre         Publisher ESRB_Rating  \\\n",
       "0                     WII SPORTS    Sports          Nintendo           E   \n",
       "1              SUPER MARIO BROS.  Platform          Nintendo         NaN   \n",
       "2                 MARIO KART WII    Racing          Nintendo           E   \n",
       "3  PLAYERUNKNOWN'S BATTLEGROUNDS   Shooter  PUBG Corporation         NaN   \n",
       "4              WII SPORTS RESORT    Sports          Nintendo           E   \n",
       "\n",
       "          Developer  Critic_Score  \n",
       "0      Nintendo EAD           7.7  \n",
       "1      Nintendo EAD          10.0  \n",
       "2      Nintendo EAD           8.2  \n",
       "3  PUBG Corporation           NaN  \n",
       "4      Nintendo EAD           8.0  "
      ]
     },
     "execution_count": 7,
     "metadata": {},
     "output_type": "execute_result"
    }
   ],
   "source": [
    "df_critic.head()"
   ]
  },
  {
   "cell_type": "code",
   "execution_count": 8,
   "metadata": {},
   "outputs": [],
   "source": [
    "# Dropping na values and duplicate inputs for critic score.\n",
    "\n",
    "df_critic = df_critic.dropna()\n",
    "df_critic = df_critic.sort_values(by=['Critic_Score']).drop_duplicates(subset=['Name']).sort_index()"
   ]
  },
  {
   "cell_type": "code",
   "execution_count": 9,
   "metadata": {},
   "outputs": [
    {
     "data": {
      "text/plain": [
       "4311"
      ]
     },
     "execution_count": 9,
     "metadata": {},
     "output_type": "execute_result"
    }
   ],
   "source": [
    "df_critic.head()\n",
    "df_critic['Name'].count()"
   ]
  },
  {
   "cell_type": "code",
   "execution_count": 10,
   "metadata": {},
   "outputs": [
    {
     "data": {
      "text/plain": [
       "<bound method DataFrame.info of                                        Name             Genre  \\\n",
       "0                                WII SPORTS            Sports   \n",
       "2                            MARIO KART WII            Racing   \n",
       "4                         WII SPORTS RESORT            Sports   \n",
       "5        POKEMON RED / GREEN / BLUE VERSION      Role-Playing   \n",
       "6                     NEW SUPER MARIO BROS.          Platform   \n",
       "...                                     ...               ...   \n",
       "55090                                STRAFE           Shooter   \n",
       "55423                               THUMPER             Music   \n",
       "55490  TRAVIS STRIKES AGAIN: NO MORE HEROES            Action   \n",
       "55528                            TUMBLESEED  Action-Adventure   \n",
       "55653                     WHEELS OF AURELIA      Visual Novel   \n",
       "\n",
       "                          Publisher ESRB_Rating                Developer  \\\n",
       "0                          Nintendo           E             Nintendo EAD   \n",
       "2                          Nintendo           E             Nintendo EAD   \n",
       "4                          Nintendo           E             Nintendo EAD   \n",
       "5                          Nintendo           E               Game Freak   \n",
       "6                          Nintendo           E             Nintendo EAD   \n",
       "...                             ...         ...                      ...   \n",
       "55090              Devolver Digital           M             Pixel Titans   \n",
       "55423                         Drool         E10                    Drool   \n",
       "55490  Grasshopper Manufacture Inc.           M  Grasshopper Manufacture   \n",
       "55528                        aeiowu           E          Team TumbleSeed   \n",
       "55653                  Mixedbag Srl           T        Santa Ragione Srl   \n",
       "\n",
       "       Critic_Score  \n",
       "0               7.7  \n",
       "2               8.2  \n",
       "4               8.0  \n",
       "5               9.4  \n",
       "6               9.1  \n",
       "...             ...  \n",
       "55090           7.2  \n",
       "55423           9.0  \n",
       "55490           8.0  \n",
       "55528           7.0  \n",
       "55653           8.0  \n",
       "\n",
       "[4311 rows x 6 columns]>"
      ]
     },
     "execution_count": 10,
     "metadata": {},
     "output_type": "execute_result"
    }
   ],
   "source": [
    "df_critic.info"
   ]
  },
  {
   "cell_type": "code",
   "execution_count": 11,
   "metadata": {},
   "outputs": [],
   "source": [
    "# Dropping na values and duplicate inputs for user score.\n",
    "\n",
    "df_user = df_user.dropna()\n",
    "df_user = df_user.sort_values(by=['userscore']).drop_duplicates(subset=['name']).sort_index()\n",
    "df_user=df_user[df_user[\"userscore\"].str.contains(\"tbd\")==False]"
   ]
  },
  {
   "cell_type": "code",
   "execution_count": 12,
   "metadata": {},
   "outputs": [
    {
     "data": {
      "text/html": [
       "<div>\n",
       "<style scoped>\n",
       "    .dataframe tbody tr th:only-of-type {\n",
       "        vertical-align: middle;\n",
       "    }\n",
       "\n",
       "    .dataframe tbody tr th {\n",
       "        vertical-align: top;\n",
       "    }\n",
       "\n",
       "    .dataframe thead th {\n",
       "        text-align: right;\n",
       "    }\n",
       "</style>\n",
       "<table border=\"1\" class=\"dataframe\">\n",
       "  <thead>\n",
       "    <tr style=\"text-align: right;\">\n",
       "      <th></th>\n",
       "      <th>metascore</th>\n",
       "      <th>name</th>\n",
       "      <th>console</th>\n",
       "      <th>userscore</th>\n",
       "      <th>date</th>\n",
       "    </tr>\n",
       "  </thead>\n",
       "  <tbody>\n",
       "    <tr>\n",
       "      <th>2</th>\n",
       "      <td>95</td>\n",
       "      <td>THE LAST OF US</td>\n",
       "      <td>PS3</td>\n",
       "      <td>9.2</td>\n",
       "      <td>Jun 14, 2013</td>\n",
       "    </tr>\n",
       "    <tr>\n",
       "      <th>5</th>\n",
       "      <td>93</td>\n",
       "      <td>BIOSHOCK INFINITE</td>\n",
       "      <td>X360</td>\n",
       "      <td>8.5</td>\n",
       "      <td>Mar 26, 2013</td>\n",
       "    </tr>\n",
       "    <tr>\n",
       "      <th>6</th>\n",
       "      <td>93</td>\n",
       "      <td>SUPER MARIO 3D WORLD</td>\n",
       "      <td>WIIU</td>\n",
       "      <td>8.9</td>\n",
       "      <td>Nov 22, 2013</td>\n",
       "    </tr>\n",
       "    <tr>\n",
       "      <th>7</th>\n",
       "      <td>92</td>\n",
       "      <td>FIRE EMBLEM: AWAKENING</td>\n",
       "      <td>3DS</td>\n",
       "      <td>9.1</td>\n",
       "      <td>Feb 4, 2013</td>\n",
       "    </tr>\n",
       "    <tr>\n",
       "      <th>11</th>\n",
       "      <td>91</td>\n",
       "      <td>THE LEGEND OF ZELDA: A LINK BETWEEN WORLDS</td>\n",
       "      <td>3DS</td>\n",
       "      <td>9</td>\n",
       "      <td>Nov 22, 2013</td>\n",
       "    </tr>\n",
       "  </tbody>\n",
       "</table>\n",
       "</div>"
      ],
      "text/plain": [
       "    metascore                                        name console userscore  \\\n",
       "2          95                              THE LAST OF US     PS3       9.2   \n",
       "5          93                           BIOSHOCK INFINITE    X360       8.5   \n",
       "6          93                        SUPER MARIO 3D WORLD    WIIU       8.9   \n",
       "7          92                      FIRE EMBLEM: AWAKENING     3DS       9.1   \n",
       "11         91  THE LEGEND OF ZELDA: A LINK BETWEEN WORLDS     3DS         9   \n",
       "\n",
       "            date  \n",
       "2   Jun 14, 2013  \n",
       "5   Mar 26, 2013  \n",
       "6   Nov 22, 2013  \n",
       "7    Feb 4, 2013  \n",
       "11  Nov 22, 2013  "
      ]
     },
     "execution_count": 12,
     "metadata": {},
     "output_type": "execute_result"
    }
   ],
   "source": [
    "df_user.head()"
   ]
  },
  {
   "cell_type": "code",
   "execution_count": 13,
   "metadata": {},
   "outputs": [],
   "source": [
    "# Do not leave files open when running permission error will occur.\n",
    "\n",
    "df_critic.to_csv(\"vg_critic_score_cleaned.csv\", index=False)"
   ]
  },
  {
   "cell_type": "code",
   "execution_count": 14,
   "metadata": {},
   "outputs": [],
   "source": [
    "df_user.to_csv(\"vg_user_score_cleaned.csv\", index=False)"
   ]
  },
  {
   "cell_type": "code",
   "execution_count": 15,
   "metadata": {},
   "outputs": [],
   "source": [
    "vgsales.to_csv(\"vgsales.csv\", index=False)"
   ]
  }
 ],
 "metadata": {
  "kernelspec": {
   "display_name": "PythonData",
   "language": "python",
   "name": "pythondata"
  },
  "language_info": {
   "codemirror_mode": {
    "name": "ipython",
    "version": 3
   },
   "file_extension": ".py",
   "mimetype": "text/x-python",
   "name": "python",
   "nbconvert_exporter": "python",
   "pygments_lexer": "ipython3",
   "version": "3.7.7"
  }
 },
 "nbformat": 4,
 "nbformat_minor": 4
}
