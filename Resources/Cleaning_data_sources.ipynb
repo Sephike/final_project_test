{
 "cells": [
  {
   "cell_type": "code",
   "execution_count": 1,
   "metadata": {},
   "outputs": [],
   "source": [
    "# Importing our dependencies\n",
    "\n",
    "import pandas as pd\n",
    "import time"
   ]
  },
  {
   "cell_type": "code",
   "execution_count": 2,
   "metadata": {},
   "outputs": [
    {
     "name": "stderr",
     "output_type": "stream",
     "text": [
      "C:\\Users\\steph\\AppData\\Roaming\\Python\\Python37\\site-packages\\ipykernel_launcher.py:7: SettingWithCopyWarning: \n",
      "A value is trying to be set on a copy of a slice from a DataFrame\n",
      "\n",
      "See the caveats in the documentation: https://pandas.pydata.org/pandas-docs/stable/user_guide/indexing.html#returning-a-view-versus-a-copy\n",
      "  import sys\n",
      "C:\\Users\\steph\\AppData\\Roaming\\Python\\Python37\\site-packages\\ipykernel_launcher.py:13: SettingWithCopyWarning: \n",
      "A value is trying to be set on a copy of a slice from a DataFrame\n",
      "\n",
      "See the caveats in the documentation: https://pandas.pydata.org/pandas-docs/stable/user_guide/indexing.html#returning-a-view-versus-a-copy\n",
      "  del sys.path[0]\n",
      "C:\\Users\\steph\\AppData\\Roaming\\Python\\Python37\\site-packages\\ipykernel_launcher.py:19: SettingWithCopyWarning: \n",
      "A value is trying to be set on a copy of a slice from a DataFrame\n",
      "\n",
      "See the caveats in the documentation: https://pandas.pydata.org/pandas-docs/stable/user_guide/indexing.html#returning-a-view-versus-a-copy\n"
     ]
    }
   ],
   "source": [
    "# Reading our data into DataFrames. \n",
    "# Once these are all brought in all name columns are made upper cased for ease of joining the datasets\n",
    "\n",
    "df = pd.read_csv(\"vgsales_user_score.csv\")\n",
    "string_list = df['Name']\n",
    "for i in range(len(string_list)):\n",
    "    string_list[i] = string_list[i].upper()\n",
    "df['Name'] = string_list\n",
    "\n",
    "df_user = pd.read_csv(\"result.csv\")\n",
    "string_list = df_user['name']\n",
    "for i in range(len(string_list)):\n",
    "    string_list[i] = string_list[i].upper()\n",
    "df_user['name'] = string_list\n",
    "\n",
    "vgsales = pd.read_csv(\"vgsales.csv\")\n",
    "string_list = vgsales['Name']\n",
    "for i in range(len(string_list)):\n",
    "    string_list[i] = string_list[i].upper()\n",
    "vgsales['Name'] = string_list"
   ]
  },
  {
   "cell_type": "code",
   "execution_count": 3,
   "metadata": {},
   "outputs": [],
   "source": [
    "# Cleaning up the null values.\n",
    "\n",
    "vgsales = vgsales.dropna()"
   ]
  },
  {
   "cell_type": "code",
   "execution_count": 4,
   "metadata": {},
   "outputs": [
    {
     "data": {
      "text/plain": [
       "Rank            0\n",
       "Name            0\n",
       "Year            0\n",
       "Genre           0\n",
       "NA_Sales        0\n",
       "EU_Sales        0\n",
       "JP_Sales        0\n",
       "Other_Sales     0\n",
       "Global_Sales    0\n",
       "dtype: int64"
      ]
     },
     "execution_count": 4,
     "metadata": {},
     "output_type": "execute_result"
    }
   ],
   "source": [
    "# Double checking there is no nulls in the dataset\n",
    "\n",
    "vgsales.isnull().sum()"
   ]
  },
  {
   "cell_type": "code",
   "execution_count": 5,
   "metadata": {},
   "outputs": [
    {
     "data": {
      "text/plain": [
       "Rank              int64\n",
       "Name             object\n",
       "Year             object\n",
       "Genre            object\n",
       "NA_Sales        float64\n",
       "EU_Sales        float64\n",
       "JP_Sales        float64\n",
       "Other_Sales     float64\n",
       "Global_Sales    float64\n",
       "dtype: object"
      ]
     },
     "execution_count": 5,
     "metadata": {},
     "output_type": "execute_result"
    }
   ],
   "source": [
    "# Looking at the dtypes to see if any changes need to be made\n",
    "\n",
    "vgsales.dtypes"
   ]
  },
  {
   "cell_type": "code",
   "execution_count": 6,
   "metadata": {},
   "outputs": [],
   "source": [
    "# We are limiting the year value to only year so it can be converted\n",
    "\n",
    "vgsales[\"Year\"] = vgsales[\"Year\"].str[:4]"
   ]
  },
  {
   "cell_type": "code",
   "execution_count": 8,
   "metadata": {},
   "outputs": [],
   "source": [
    "# Temporary DataFrame so we can merge the summed values back into one DataFrame\n",
    "\n",
    "vgsales_temp = vgsales[['NA_Sales', 'EU_Sales', 'JP_Sales', 'Other_Sales', 'Global_Sales', 'Name', 'Rank']].groupby(['Name']).sum().reset_index()"
   ]
  },
  {
   "cell_type": "code",
   "execution_count": 9,
   "metadata": {},
   "outputs": [
    {
     "data": {
      "text/html": [
       "<div>\n",
       "<style scoped>\n",
       "    .dataframe tbody tr th:only-of-type {\n",
       "        vertical-align: middle;\n",
       "    }\n",
       "\n",
       "    .dataframe tbody tr th {\n",
       "        vertical-align: top;\n",
       "    }\n",
       "\n",
       "    .dataframe thead th {\n",
       "        text-align: right;\n",
       "    }\n",
       "</style>\n",
       "<table border=\"1\" class=\"dataframe\">\n",
       "  <thead>\n",
       "    <tr style=\"text-align: right;\">\n",
       "      <th></th>\n",
       "      <th>Name</th>\n",
       "      <th>NA_Sales</th>\n",
       "      <th>EU_Sales</th>\n",
       "      <th>JP_Sales</th>\n",
       "      <th>Other_Sales</th>\n",
       "      <th>Global_Sales</th>\n",
       "      <th>Rank</th>\n",
       "    </tr>\n",
       "  </thead>\n",
       "  <tbody>\n",
       "    <tr>\n",
       "      <th>0</th>\n",
       "      <td>'98 KOSHIEN</td>\n",
       "      <td>0.15</td>\n",
       "      <td>0.10</td>\n",
       "      <td>0.12</td>\n",
       "      <td>0.03</td>\n",
       "      <td>0.41</td>\n",
       "      <td>4756</td>\n",
       "    </tr>\n",
       "    <tr>\n",
       "      <th>1</th>\n",
       "      <td>.HACK//G.U. VOL.1//REBIRTH</td>\n",
       "      <td>0.00</td>\n",
       "      <td>0.00</td>\n",
       "      <td>0.17</td>\n",
       "      <td>0.00</td>\n",
       "      <td>0.17</td>\n",
       "      <td>8359</td>\n",
       "    </tr>\n",
       "    <tr>\n",
       "      <th>2</th>\n",
       "      <td>.HACK//G.U. VOL.2//REMINISCE</td>\n",
       "      <td>0.11</td>\n",
       "      <td>0.09</td>\n",
       "      <td>0.00</td>\n",
       "      <td>0.03</td>\n",
       "      <td>0.23</td>\n",
       "      <td>7109</td>\n",
       "    </tr>\n",
       "    <tr>\n",
       "      <th>3</th>\n",
       "      <td>.HACK//G.U. VOL.2//REMINISCE (JP SALES)</td>\n",
       "      <td>0.00</td>\n",
       "      <td>0.00</td>\n",
       "      <td>0.16</td>\n",
       "      <td>0.00</td>\n",
       "      <td>0.16</td>\n",
       "      <td>8604</td>\n",
       "    </tr>\n",
       "    <tr>\n",
       "      <th>4</th>\n",
       "      <td>.HACK//G.U. VOL.3//REDEMPTION</td>\n",
       "      <td>0.00</td>\n",
       "      <td>0.00</td>\n",
       "      <td>0.17</td>\n",
       "      <td>0.00</td>\n",
       "      <td>0.17</td>\n",
       "      <td>8306</td>\n",
       "    </tr>\n",
       "  </tbody>\n",
       "</table>\n",
       "</div>"
      ],
      "text/plain": [
       "                                      Name  NA_Sales  EU_Sales  JP_Sales  \\\n",
       "0                              '98 KOSHIEN      0.15      0.10      0.12   \n",
       "1               .HACK//G.U. VOL.1//REBIRTH      0.00      0.00      0.17   \n",
       "2             .HACK//G.U. VOL.2//REMINISCE      0.11      0.09      0.00   \n",
       "3  .HACK//G.U. VOL.2//REMINISCE (JP SALES)      0.00      0.00      0.16   \n",
       "4            .HACK//G.U. VOL.3//REDEMPTION      0.00      0.00      0.17   \n",
       "\n",
       "   Other_Sales  Global_Sales  Rank  \n",
       "0         0.03          0.41  4756  \n",
       "1         0.00          0.17  8359  \n",
       "2         0.03          0.23  7109  \n",
       "3         0.00          0.16  8604  \n",
       "4         0.00          0.17  8306  "
      ]
     },
     "execution_count": 9,
     "metadata": {},
     "output_type": "execute_result"
    }
   ],
   "source": [
    "# Looking at the DataFrame to ensure everything is here\n",
    "\n",
    "vgsales_temp.head()"
   ]
  },
  {
   "cell_type": "code",
   "execution_count": 10,
   "metadata": {},
   "outputs": [],
   "source": [
    "# Another DataFrame we made that holds the data we could not gather in the temp DataFrame\n",
    "\n",
    "vgsales_mini = vgsales[['Rank', 'Year', 'Genre']]"
   ]
  },
  {
   "cell_type": "code",
   "execution_count": 11,
   "metadata": {},
   "outputs": [],
   "source": [
    "# We merged the DataFrames temp and mini together to form one DataFrame again\n",
    "\n",
    "vgsales = pd.merge(vgsales_temp, vgsales_mini, how=\"left\", on=[\"Rank\", \"Rank\"])"
   ]
  },
  {
   "cell_type": "code",
   "execution_count": 12,
   "metadata": {},
   "outputs": [],
   "source": [
    "# Reorganizing the columns to a similar format\n",
    "\n",
    "vgsales = vgsales[['Rank', 'Name', 'Year', 'Genre', 'NA_Sales', 'EU_Sales', 'JP_Sales', 'Other_Sales', 'Global_Sales']]"
   ]
  },
  {
   "cell_type": "code",
   "execution_count": 13,
   "metadata": {},
   "outputs": [
    {
     "data": {
      "text/plain": [
       "<bound method DataFrame.info of        Rank                                           Name  Year  \\\n",
       "0      4756                                    '98 KOSHIEN  1/1/   \n",
       "1      8359                     .HACK//G.U. VOL.1//REBIRTH  1/1/   \n",
       "2      7109                   .HACK//G.U. VOL.2//REMINISCE  1/1/   \n",
       "3      8604        .HACK//G.U. VOL.2//REMINISCE (JP SALES)  1/1/   \n",
       "4      8306                  .HACK//G.U. VOL.3//REDEMPTION  1/1/   \n",
       "...     ...                                            ...   ...   \n",
       "8506   4203                                  ZUMBA FITNESS  1/1/   \n",
       "8507    502                                ZUMBA FITNESS 2  1/1/   \n",
       "8508   7925                             ZUMBA FITNESS RUSH  1/1/   \n",
       "8509  12919  ZYUDEN SENTAI KYORYUGER: GAME DE GABURINCHO!!  1/1/   \n",
       "8510   9137                   ¡SHIN CHAN FLIPA EN COLORES!  1/1/   \n",
       "\n",
       "             Genre  NA_Sales  EU_Sales  JP_Sales  Other_Sales  Global_Sales  \n",
       "0           Sports      0.15      0.10      0.12         0.03          0.41  \n",
       "1     Role-Playing      0.00      0.00      0.17         0.00          0.17  \n",
       "2     Role-Playing      0.11      0.09      0.00         0.03          0.23  \n",
       "3     Role-Playing      0.00      0.00      0.16         0.00          0.16  \n",
       "4     Role-Playing      0.00      0.00      0.17         0.00          0.17  \n",
       "...            ...       ...       ...       ...          ...           ...  \n",
       "8506        Sports      5.52      3.33      0.00         0.94          9.79  \n",
       "8507        Sports      1.54      1.07      0.00         0.28          2.88  \n",
       "8508        Sports      0.00      0.16      0.00         0.02          0.19  \n",
       "8509        Action      0.00      0.00      0.05         0.00          0.05  \n",
       "8510      Platform      0.00      0.00      0.14         0.00          0.14  \n",
       "\n",
       "[8403 rows x 9 columns]>"
      ]
     },
     "execution_count": 13,
     "metadata": {},
     "output_type": "execute_result"
    }
   ],
   "source": [
    "# Dropping the duplicates that were left over\n",
    "\n",
    "vgsales = vgsales.drop_duplicates(subset=['Name']).sort_index()\n",
    "vgsales.info"
   ]
  },
  {
   "cell_type": "code",
   "execution_count": 14,
   "metadata": {},
   "outputs": [],
   "source": [
    "# Sorting the rows by Rank again\n",
    "\n",
    "vgsales = vgsales.sort_values(by='Rank', ascending=True)"
   ]
  },
  {
   "cell_type": "code",
   "execution_count": 15,
   "metadata": {},
   "outputs": [],
   "source": [
    "# Exporting video game sales to a csv\n",
    "\n",
    "vgsales.to_csv(\"vgsales.csv\", index=False)"
   ]
  },
  {
   "cell_type": "code",
   "execution_count": 16,
   "metadata": {},
   "outputs": [],
   "source": [
    "# Dropping unnecessary columns for critic score.\n",
    "\n",
    "df = df.drop(columns = ['VGChartz_Score', 'Platform', 'Year', \n",
    "                        'basename', 'Total_Shipped', 'Last_Update', 'url', 'status',\n",
    "                        'Vgchartzscore', 'img_url', 'Global_Sales',\n",
    "                        'NA_Sales', 'PAL_Sales', 'JP_Sales', 'Other_Sales'])\n"
   ]
  },
  {
   "cell_type": "code",
   "execution_count": 17,
   "metadata": {},
   "outputs": [],
   "source": [
    "# Separating DataFrames for user score and critic score.\n",
    "\n",
    "df_critic = df[['Name', 'Genre', 'Publisher', 'ESRB_Rating', 'Developer', 'Critic_Score']]"
   ]
  },
  {
   "cell_type": "code",
   "execution_count": 18,
   "metadata": {
    "scrolled": true
   },
   "outputs": [
    {
     "data": {
      "text/html": [
       "<div>\n",
       "<style scoped>\n",
       "    .dataframe tbody tr th:only-of-type {\n",
       "        vertical-align: middle;\n",
       "    }\n",
       "\n",
       "    .dataframe tbody tr th {\n",
       "        vertical-align: top;\n",
       "    }\n",
       "\n",
       "    .dataframe thead th {\n",
       "        text-align: right;\n",
       "    }\n",
       "</style>\n",
       "<table border=\"1\" class=\"dataframe\">\n",
       "  <thead>\n",
       "    <tr style=\"text-align: right;\">\n",
       "      <th></th>\n",
       "      <th>Name</th>\n",
       "      <th>Genre</th>\n",
       "      <th>Publisher</th>\n",
       "      <th>ESRB_Rating</th>\n",
       "      <th>Developer</th>\n",
       "      <th>Critic_Score</th>\n",
       "    </tr>\n",
       "  </thead>\n",
       "  <tbody>\n",
       "    <tr>\n",
       "      <th>0</th>\n",
       "      <td>WII SPORTS</td>\n",
       "      <td>Sports</td>\n",
       "      <td>Nintendo</td>\n",
       "      <td>E</td>\n",
       "      <td>Nintendo EAD</td>\n",
       "      <td>7.7</td>\n",
       "    </tr>\n",
       "    <tr>\n",
       "      <th>1</th>\n",
       "      <td>SUPER MARIO BROS.</td>\n",
       "      <td>Platform</td>\n",
       "      <td>Nintendo</td>\n",
       "      <td>NaN</td>\n",
       "      <td>Nintendo EAD</td>\n",
       "      <td>10.0</td>\n",
       "    </tr>\n",
       "    <tr>\n",
       "      <th>2</th>\n",
       "      <td>MARIO KART WII</td>\n",
       "      <td>Racing</td>\n",
       "      <td>Nintendo</td>\n",
       "      <td>E</td>\n",
       "      <td>Nintendo EAD</td>\n",
       "      <td>8.2</td>\n",
       "    </tr>\n",
       "    <tr>\n",
       "      <th>3</th>\n",
       "      <td>PLAYERUNKNOWN'S BATTLEGROUNDS</td>\n",
       "      <td>Shooter</td>\n",
       "      <td>PUBG Corporation</td>\n",
       "      <td>NaN</td>\n",
       "      <td>PUBG Corporation</td>\n",
       "      <td>NaN</td>\n",
       "    </tr>\n",
       "    <tr>\n",
       "      <th>4</th>\n",
       "      <td>WII SPORTS RESORT</td>\n",
       "      <td>Sports</td>\n",
       "      <td>Nintendo</td>\n",
       "      <td>E</td>\n",
       "      <td>Nintendo EAD</td>\n",
       "      <td>8.0</td>\n",
       "    </tr>\n",
       "  </tbody>\n",
       "</table>\n",
       "</div>"
      ],
      "text/plain": [
       "                            Name     Genre         Publisher ESRB_Rating  \\\n",
       "0                     WII SPORTS    Sports          Nintendo           E   \n",
       "1              SUPER MARIO BROS.  Platform          Nintendo         NaN   \n",
       "2                 MARIO KART WII    Racing          Nintendo           E   \n",
       "3  PLAYERUNKNOWN'S BATTLEGROUNDS   Shooter  PUBG Corporation         NaN   \n",
       "4              WII SPORTS RESORT    Sports          Nintendo           E   \n",
       "\n",
       "          Developer  Critic_Score  \n",
       "0      Nintendo EAD           7.7  \n",
       "1      Nintendo EAD          10.0  \n",
       "2      Nintendo EAD           8.2  \n",
       "3  PUBG Corporation           NaN  \n",
       "4      Nintendo EAD           8.0  "
      ]
     },
     "execution_count": 18,
     "metadata": {},
     "output_type": "execute_result"
    }
   ],
   "source": [
    "df_critic.head()"
   ]
  },
  {
   "cell_type": "code",
   "execution_count": 19,
   "metadata": {},
   "outputs": [],
   "source": [
    "# Dropping na values and duplicate inputs for critic score.\n",
    "\n",
    "df_critic = df_critic.dropna()\n",
    "df_critic = df_critic.sort_values(by=['Critic_Score']).drop_duplicates(subset=['Name']).sort_index()"
   ]
  },
  {
   "cell_type": "code",
   "execution_count": 20,
   "metadata": {},
   "outputs": [
    {
     "data": {
      "text/plain": [
       "4311"
      ]
     },
     "execution_count": 20,
     "metadata": {},
     "output_type": "execute_result"
    }
   ],
   "source": [
    "# Counting the number of unique names\n",
    "\n",
    "df_critic.head()\n",
    "df_critic['Name'].count()"
   ]
  },
  {
   "cell_type": "code",
   "execution_count": 21,
   "metadata": {},
   "outputs": [],
   "source": [
    "# Dropping na values and duplicate inputs and also dropping tbd values for user score.\n",
    "\n",
    "df_user = df_user.dropna()\n",
    "df_user = df_user.sort_values(by=['userscore']).drop_duplicates(subset=['name']).sort_index()\n",
    "df_user=df_user[df_user[\"userscore\"].str.contains(\"tbd\")==False]"
   ]
  },
  {
   "cell_type": "code",
   "execution_count": 22,
   "metadata": {},
   "outputs": [
    {
     "data": {
      "text/html": [
       "<div>\n",
       "<style scoped>\n",
       "    .dataframe tbody tr th:only-of-type {\n",
       "        vertical-align: middle;\n",
       "    }\n",
       "\n",
       "    .dataframe tbody tr th {\n",
       "        vertical-align: top;\n",
       "    }\n",
       "\n",
       "    .dataframe thead th {\n",
       "        text-align: right;\n",
       "    }\n",
       "</style>\n",
       "<table border=\"1\" class=\"dataframe\">\n",
       "  <thead>\n",
       "    <tr style=\"text-align: right;\">\n",
       "      <th></th>\n",
       "      <th>metascore</th>\n",
       "      <th>name</th>\n",
       "      <th>console</th>\n",
       "      <th>userscore</th>\n",
       "      <th>date</th>\n",
       "    </tr>\n",
       "  </thead>\n",
       "  <tbody>\n",
       "    <tr>\n",
       "      <th>2</th>\n",
       "      <td>95</td>\n",
       "      <td>THE LAST OF US</td>\n",
       "      <td>PS3</td>\n",
       "      <td>9.2</td>\n",
       "      <td>Jun 14, 2013</td>\n",
       "    </tr>\n",
       "    <tr>\n",
       "      <th>5</th>\n",
       "      <td>93</td>\n",
       "      <td>BIOSHOCK INFINITE</td>\n",
       "      <td>X360</td>\n",
       "      <td>8.5</td>\n",
       "      <td>Mar 26, 2013</td>\n",
       "    </tr>\n",
       "    <tr>\n",
       "      <th>6</th>\n",
       "      <td>93</td>\n",
       "      <td>SUPER MARIO 3D WORLD</td>\n",
       "      <td>WIIU</td>\n",
       "      <td>8.9</td>\n",
       "      <td>Nov 22, 2013</td>\n",
       "    </tr>\n",
       "    <tr>\n",
       "      <th>7</th>\n",
       "      <td>92</td>\n",
       "      <td>FIRE EMBLEM: AWAKENING</td>\n",
       "      <td>3DS</td>\n",
       "      <td>9.1</td>\n",
       "      <td>Feb 4, 2013</td>\n",
       "    </tr>\n",
       "    <tr>\n",
       "      <th>11</th>\n",
       "      <td>91</td>\n",
       "      <td>THE LEGEND OF ZELDA: A LINK BETWEEN WORLDS</td>\n",
       "      <td>3DS</td>\n",
       "      <td>9</td>\n",
       "      <td>Nov 22, 2013</td>\n",
       "    </tr>\n",
       "  </tbody>\n",
       "</table>\n",
       "</div>"
      ],
      "text/plain": [
       "    metascore                                        name console userscore  \\\n",
       "2          95                              THE LAST OF US     PS3       9.2   \n",
       "5          93                           BIOSHOCK INFINITE    X360       8.5   \n",
       "6          93                        SUPER MARIO 3D WORLD    WIIU       8.9   \n",
       "7          92                      FIRE EMBLEM: AWAKENING     3DS       9.1   \n",
       "11         91  THE LEGEND OF ZELDA: A LINK BETWEEN WORLDS     3DS         9   \n",
       "\n",
       "            date  \n",
       "2   Jun 14, 2013  \n",
       "5   Mar 26, 2013  \n",
       "6   Nov 22, 2013  \n",
       "7    Feb 4, 2013  \n",
       "11  Nov 22, 2013  "
      ]
     },
     "execution_count": 22,
     "metadata": {},
     "output_type": "execute_result"
    }
   ],
   "source": [
    "df_user.head()"
   ]
  },
  {
   "cell_type": "code",
   "execution_count": 23,
   "metadata": {},
   "outputs": [],
   "source": [
    "# Do not leave files open when running permission error will occur.\n",
    "# Exporting critic score data to a csv\n",
    "\n",
    "df_critic.to_csv(\"vg_critic_score_cleaned.csv\", index=False)"
   ]
  },
  {
   "cell_type": "code",
   "execution_count": 24,
   "metadata": {},
   "outputs": [],
   "source": [
    "# Exporting user score data to a csv\n",
    "pd.concat\n",
    "df_user.to_csv(\"vg_user_score_cleaned.csv\", index=False)"
   ]
  }
 ],
 "metadata": {
  "kernelspec": {
   "display_name": "PythonData",
   "language": "python",
   "name": "pythondata"
  },
  "language_info": {
   "codemirror_mode": {
    "name": "ipython",
    "version": 3
   },
   "file_extension": ".py",
   "mimetype": "text/x-python",
   "name": "python",
   "nbconvert_exporter": "python",
   "pygments_lexer": "ipython3",
   "version": "3.7.7"
  }
 },
 "nbformat": 4,
 "nbformat_minor": 4
}
